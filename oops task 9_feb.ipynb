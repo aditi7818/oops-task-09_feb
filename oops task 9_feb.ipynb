{
 "cells": [
  {
   "cell_type": "code",
   "execution_count": null,
   "id": "c94dea63-a8fb-4aa8-9fac-448236b18e38",
   "metadata": {},
   "outputs": [],
   "source": [
    "Question: Create a vehicle class with an init method having instance variables as name_of_vehicle, max_speed and average_of_vehicle.\n",
    "Answer: \n",
    "class vehicle:\n",
    "    def __init__(self, name_of_vehicle, max_speed. average_of_vehicle):\n",
    "        self.name_of_vehicle = name_of_vehicle\n",
    "        self.max_speed = max_speed\n",
    "        self.average_of_vehicle = average_of_vehicle\n",
    "\n",
    "car= vehicle(\"mercedes\", 220, 20)\n",
    "print(car.name_of_vehicle, car.max_speed, car.average_of_vehicle)"
   ]
  },
  {
   "cell_type": "code",
   "execution_count": null,
   "id": "9ec3a561-d66b-4ec1-a2b9-51b629b1e203",
   "metadata": {},
   "outputs": [],
   "source": [
    "Question: Create a child class car from the vehicle class created in Que 1, which will inherit the vehicle class. create a method named \n",
    "seating_capacity which takes capacity as argument and returns the name of the vehicle and its seating capacity.\n",
    "Answer:\n",
    "use the following code for your parent vehicle class.\n",
    "class vehicle:\n",
    "    def __init__(self, name, max_speed, mileage):\n",
    "        self.name = name\n",
    "        self.max_speed = max_speed\n",
    "        self.mileage = mileage\n",
    "        \n",
    "    def seating_capacity(self, capacity):\n",
    "        return f\"the seating capacity of a {self.name} is {capacity} passengers\"\n",
    "class bus(vehicle):\n",
    "    def seating_capacity(self, capacity= 50):\n",
    "        return super().seating_capacity(capacity= 50)\n",
    "school_bus = bus(\"school volvo\", 180, 12)\n",
    "print(school)bus.seating_capacity())"
   ]
  },
  {
   "cell_type": "code",
   "execution_count": null,
   "id": "b3ef2b99-cb2f-4296-bd09-1661a29ac1ac",
   "metadata": {},
   "outputs": [],
   "source": [
    "Question: What is multiple inheritance? write a python code to demonstrate multiple inheritance.\n",
    "Answer: When a class is derived from more than one base class it is called multiple inheritance. The derived class inherits all the features of the base case.\n",
    "\n",
    "Syntax:\n",
    "\n",
    "class base1:\n",
    "    body of the class\n",
    "    \n",
    "class base2:\n",
    "    body of the class\n",
    "\n",
    "class Derived(base1, base2):\n",
    "    body of the class\n",
    "    \n",
    "# python program for demonstrating multiple inhertiance\n",
    "\n",
    "class Mother1:\n",
    "    mothername1=\"\"\n",
    "    def mother1(self):\n",
    "        print(self.mothername1)\n",
    "\n",
    "class father1:\n",
    "    fathername1=\"\"\n",
    "    def father1(self):\n",
    "        print(self.fathername1)\n",
    "        \n",
    "classSon1(Mother1, Father1):\n",
    "    def parents1(self):\n",
    "        print(\"father name is:\", self.fathername1)\n",
    "        print(\"mother name is:\", self.mothername\n",
    "              \n",
    "s1= son1()\n",
    "s1.fathername1 = \"rajesh\"\n",
    "s1.mothername1=\"sherya\"\n",
    "s1.parents1()"
   ]
  },
  {
   "cell_type": "code",
   "execution_count": null,
   "id": "d902d644-5766-4b1a-8f60-c40d934588cb",
   "metadata": {},
   "outputs": [],
   "source": [
    "Question: What are getter and setter in python? create a class and create a getter and a setter method in this class.\n",
    "Answer:\n",
    "Getter and setter methods are quite popular in many object-oriented programming languages. as a defination, you can say that getters and setters are:\n",
    "    1) Getter: a method that allows you to access an attriute in a given class\n",
    "    2) setter: a method that allows you to set or mutate the value of an attribute in a class\n",
    "    \n",
    "creating a class:\n",
    "    \n",
    "class label:\n",
    "    def __init__(self, text, font):\n",
    "        self._text = text\n",
    "        self._font = font\n",
    "    \n",
    "    def get_text(self):\n",
    "        return self._text\n",
    "    \n",
    "    def set_text(self, value):\n",
    "        self._text = value\n",
    "        \n",
    "    def get_font(self):\n",
    "        return self._font\n",
    "    \n",
    "    def set_font(self, value):\n",
    "        self._font = value\n",
    "        "
   ]
  },
  {
   "cell_type": "code",
   "execution_count": null,
   "id": "9e67898a-cb9f-4aac-9182-48cb1b3b81e1",
   "metadata": {},
   "outputs": [],
   "source": [
    "Question: What is method overriding in python? write a python code to demonstrate method overriding.\n",
    "Answer: method overriding in pyhton is when you have two methods with the same name that each perfome tasks. this is an important feature of inheritance in python.\n",
    "In, method overriding, the child class can change its functions that are defined by its ancestral classes. In other words, the child class has access to the properties and\n",
    "functions of the parent class method while also extending additional functions of its own to the method. \n",
    "\n",
    "class Animal:\n",
    "    def walk(self):\n",
    "        print('hello, i am the parent class')\n",
    "        \n",
    "class dog(animal):\n",
    "    def walk(self):\n",
    "        print('hello, i am the child class')\n",
    "        \n",
    "print('the method walk here is overrid"
   ]
  },
  {
   "cell_type": "code",
   "execution_count": null,
   "id": "b7bd7e66-baed-4e9d-bf58-d68c2760e62c",
   "metadata": {},
   "outputs": [],
   "source": []
  },
  {
   "cell_type": "code",
   "execution_count": null,
   "id": "687babab-d946-41b1-a970-093cbff58fa0",
   "metadata": {},
   "outputs": [],
   "source": []
  },
  {
   "cell_type": "code",
   "execution_count": null,
   "id": "09efbe87-9235-4582-a0d2-3bd33836d36c",
   "metadata": {},
   "outputs": [],
   "source": []
  }
 ],
 "metadata": {
  "kernelspec": {
   "display_name": "Python 3 (ipykernel)",
   "language": "python",
   "name": "python3"
  },
  "language_info": {
   "codemirror_mode": {
    "name": "ipython",
    "version": 3
   },
   "file_extension": ".py",
   "mimetype": "text/x-python",
   "name": "python",
   "nbconvert_exporter": "python",
   "pygments_lexer": "ipython3",
   "version": "3.10.8"
  }
 },
 "nbformat": 4,
 "nbformat_minor": 5
}
